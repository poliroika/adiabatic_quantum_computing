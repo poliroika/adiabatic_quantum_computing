{
  "nbformat": 4,
  "nbformat_minor": 0,
  "metadata": {
    "colab": {
      "provenance": []
    },
    "kernelspec": {
      "name": "python3",
      "display_name": "Python 3"
    },
    "language_info": {
      "name": "python"
    }
  },
  "cells": [
    {
      "cell_type": "markdown",
      "source": [
        "Импорт пакетов"
      ],
      "metadata": {
        "id": "FRXnI9dTxfO0"
      }
    },
    {
      "cell_type": "code",
      "execution_count": 34,
      "metadata": {
        "id": "T_HC-68zcvuf"
      },
      "outputs": [],
      "source": [
        "import numpy as np\n",
        "from scipy import sparse\n",
        "from scipy.sparse import linalg as sl"
      ]
    },
    {
      "cell_type": "markdown",
      "source": [
        "Использование модели Изинга для оптимизации такого разреза в графе, который пересекал бы максимальное число ребер(хуево сказано, погуглите если не поняли)"
      ],
      "metadata": {
        "id": "3BzXpray1s85"
      }
    },
    {
      "cell_type": "markdown",
      "source": [
        "1D случай,тоесть граф представляет собой цепочку"
      ],
      "metadata": {
        "id": "CJcUUQxK17Y0"
      }
    },
    {
      "cell_type": "markdown",
      "source": [
        "Функция действия z матрицы Паули на k кубит \n",
        "\n",
        "Матрица nxn действует на вектор состояние кубитов "
      ],
      "metadata": {
        "id": "neo3OOexxfco"
      }
    },
    {
      "cell_type": "code",
      "source": [
        "def sigmaz_k(k: int, n: int) -> (sparse.csr_matrix):\n",
        "    left_part = sparse.eye(2 ** k)\n",
        "    right_part = sparse.eye(2 ** (n - 1 - k))\n",
        "\n",
        "    return sparse.kron(\n",
        "        sparse.kron(\n",
        "            left_part,\n",
        "            sparse.csr_matrix(np.array([[1, 0,], [0, -1,],]))\n",
        "        ),\n",
        "        right_part\n",
        "    )"
      ],
      "metadata": {
        "id": "-pNnTmrnnlCA"
      },
      "execution_count": 35,
      "outputs": []
    },
    {
      "cell_type": "markdown",
      "source": [
        "Вычисление гамильтониана системы \n",
        "\n",
        "$H = J \\sum_{i=0}^{N-1} \\sigma_i^z \\sigma_{i+1}^z - h \\sum_{i=0}^{N} \\sigma_i^z$"
      ],
      "metadata": {
        "id": "HQkSwO6_x9d1"
      }
    },
    {
      "cell_type": "code",
      "source": [
        "def ising(j: float, h: float, n: int) -> (sparse.csr_matrix):\n",
        "    res = sparse.csr_matrix((2 ** n, 2 ** n), dtype=np.complex64)\n",
        "\n",
        "    for i in range(n - 1):\n",
        "        res += j * sigmaz_k(i, n) * sigmaz_k(i + 1, n)\n",
        "        res -= h * sigmaz_k(i, n)\n",
        "\n",
        "    res -= h * sigmaz_k(n - 1, n)\n",
        "\n",
        "    return res"
      ],
      "metadata": {
        "id": "K_u7XlDCdL9A"
      },
      "execution_count": 41,
      "outputs": []
    },
    {
      "cell_type": "markdown",
      "source": [
        "Собственное значение гамильтониана(вывод первого значения)"
      ],
      "metadata": {
        "id": "FpzDecmyzfOt"
      }
    },
    {
      "cell_type": "code",
      "source": [
        "op = ising(1, 0, 10)\n",
        "solution = sl.eigs(op, which=\"SR\", k=1, return_eigenvectors=True)\n",
        "print(f\"Energy: {solution[0][0]}\")"
      ],
      "metadata": {
        "colab": {
          "base_uri": "https://localhost:8080/"
        },
        "id": "bQ-Pz9OudSuM",
        "outputId": "390fd74e-990f-457e-f32c-e8be8abbdb97"
      },
      "execution_count": 64,
      "outputs": [
        {
          "output_type": "stream",
          "name": "stdout",
          "text": [
            "Energy: (-9+4.3526467380328195e-17j)\n"
          ]
        }
      ]
    },
    {
      "cell_type": "markdown",
      "source": [
        "Поиск разделения на две группы в задачи оптимизиции среза в графе(случай h = 0, тоесть без ограничений)"
      ],
      "metadata": {
        "id": "BpxqjAYr00up"
      }
    },
    {
      "cell_type": "code",
      "source": [
        "def probs2bit_str(probs: np.array) -> (str):\n",
        "    size = int(np.log2(probs.shape[0]))\n",
        "    bit_s_num = np.where(probs == probs.max())[0][0]\n",
        "    s = f\"{bit_s_num:b}\"\n",
        "    s = \"0\" * (size - len(s)) + s\n",
        "    return s\n",
        "\n",
        "probs = solution[1] * solution[1].conj()\n",
        "print(probs2bit_str(probs))"
      ],
      "metadata": {
        "colab": {
          "base_uri": "https://localhost:8080/"
        },
        "id": "758eFGLizmW0",
        "outputId": "91d2705e-9851-4f0e-d69c-38da6c3fb90b"
      },
      "execution_count": 60,
      "outputs": [
        {
          "output_type": "stream",
          "name": "stdout",
          "text": [
            "1010101010\n"
          ]
        }
      ]
    },
    {
      "cell_type": "markdown",
      "source": [
        "Случай с h = 2 (ограничение на одну группу для разреза, в два раза)"
      ],
      "metadata": {
        "id": "z3dnBzSD2HHx"
      }
    },
    {
      "cell_type": "code",
      "source": [
        "def external_field(j: float, h: float, n: int) -> (None):\n",
        "    op = ising(j, h, n)\n",
        "    solution = sl.eigs(op, which=\"SR\", k=1, return_eigenvectors=True)\n",
        "    print(f\"Energy: {solution[0][0]}\")\n",
        "\n",
        "    probs = solution[1] * solution[1].conj()\n",
        "    print(probs2bit_str(probs))\n",
        "\n",
        "external_field(1, 2, 10)"
      ],
      "metadata": {
        "colab": {
          "base_uri": "https://localhost:8080/"
        },
        "id": "IEtGDJuK2Ghd",
        "outputId": "d0312fcd-1673-42ad-ab29-f860aa24083c"
      },
      "execution_count": 65,
      "outputs": [
        {
          "output_type": "stream",
          "name": "stdout",
          "text": [
            "Energy: (-11.000000000000012-4.201612788373631e-18j)\n",
            "0101001010\n"
          ]
        }
      ]
    }
  ]
}
